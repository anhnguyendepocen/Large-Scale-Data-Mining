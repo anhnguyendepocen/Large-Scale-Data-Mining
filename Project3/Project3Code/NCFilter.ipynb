{
 "cells": [
  {
   "cell_type": "code",
   "execution_count": 1,
   "metadata": {
    "collapsed": true
   },
   "outputs": [],
   "source": [
    "from surprise import Dataset\n",
    "from surprise import Reader\n",
    "from surprise.model_selection import cross_validate\n",
    "import csv\n",
    "import pandas as pd\n",
    "import numpy as np\n",
    "from surprise.model_selection import KFold\n",
    "from surprise import accuracy\n",
    "from sklearn.metrics import mean_squared_error as mse\n",
    "from sklearn.metrics import mean_absolute_error as mae"
   ]
  },
  {
   "cell_type": "code",
   "execution_count": 2,
   "metadata": {
    "collapsed": true
   },
   "outputs": [],
   "source": [
    "df=pd.read_csv('data/ratings.csv')\n",
    "reader = Reader(rating_scale=(1,5))\n",
    "rating_data=Dataset.load_from_df(df[['userId', 'movieId', 'rating']],reader)\n",
    "rating_matrix=df.as_matrix()\n",
    "#print rating_matrix"
   ]
  },
  {
   "cell_type": "code",
   "execution_count": 3,
   "metadata": {
    "collapsed": true
   },
   "outputs": [],
   "source": [
    "def predict(dataset):\n",
    "    users=np.unique(np.array(dataset)[:,0])\n",
    "    predictionsPerUser={}\n",
    "    \n",
    "    for user in users:\n",
    "        condition=df['userId'] == user\n",
    "        newdata=df[condition]\n",
    "        userRatings=np.array(newdata)[:,2]\n",
    "        meanRating=np.mean(userRatings)\n",
    "        predictionsPerUser[user]=meanRating\n",
    "\n",
    "    return predictionsPerUser"
   ]
  },
  {
   "cell_type": "code",
   "execution_count": 4,
   "metadata": {
    "collapsed": true
   },
   "outputs": [],
   "source": [
    "predictionsPerUser=predict(rating_matrix)"
   ]
  },
  {
   "cell_type": "code",
   "execution_count": 5,
   "metadata": {
    "collapsed": true
   },
   "outputs": [],
   "source": [
    "def NBFilter(testset):\n",
    "    predictions=[]\n",
    "    dataFrame=pd.DataFrame(testset, columns=['userId', 'movieId', 'rating'])\n",
    "    for row in dataFrame.itertuples(2):\n",
    "        if row.userId in predictionsPerUser:\n",
    "            predictions.append(predictionsPerUser[row.userId])\n",
    "    return predictions"
   ]
  },
  {
   "cell_type": "code",
   "execution_count": 6,
   "metadata": {
    "collapsed": true
   },
   "outputs": [],
   "source": [
    "#this kfold is from surprise\n",
    "kf = KFold(n_splits=10)"
   ]
  },
  {
   "cell_type": "code",
   "execution_count": 7,
   "metadata": {},
   "outputs": [
    {
     "name": "stdout",
     "output_type": "stream",
     "text": [
      "RMSE= 0.897971030952 MAE= 0.74019918369\n",
      "RMSE= 0.90517258414 MAE= 0.743942426678\n",
      "RMSE= 0.921170524258 MAE= 0.751494782337\n",
      "RMSE= 0.91039792085 MAE= 0.74440706886\n",
      "RMSE= 0.897529913111 MAE= 0.736655634677\n",
      "RMSE= 0.908575805163 MAE= 0.739431384052\n",
      "RMSE= 0.935956657454 MAE= 0.752611397236\n",
      "RMSE= 0.911167510635 MAE= 0.742976101115\n",
      "RMSE= 0.931900579553 MAE= 0.752510813209\n",
      "RMSE= 0.908727350519 MAE= 0.742040772463\n",
      "Mean RMSE Q30= 0.912856987664\n",
      "Mean MAE Q30= 0.744626956432\n"
     ]
    }
   ],
   "source": [
    "#Question 30\n",
    "RMSE_list=[]\n",
    "MAE_list=[]\n",
    "for trainset, testset in kf.split(rating_data):\n",
    "    #predicted=NBPredictionFilter(testset)\n",
    "    predicted=NBFilter(testset)\n",
    "    #print \"Length of predicted=\",len(predicted)\n",
    "    actual=np.array(testset)[:,2]\n",
    "    #print \"Length of actual=\",len(actual)\n",
    "    RMSE=mse(actual, predicted)\n",
    "    MAE=mae(actual,predicted)\n",
    "    print \"RMSE=\",RMSE,\"MAE=\",MAE\n",
    "    RMSE_list.append(RMSE)\n",
    "    MAE_list.append(MAE)\n",
    "print \"Mean RMSE Q30=\",np.mean(RMSE_list)\n",
    "print \"Mean MAE Q30=\",np.mean(MAE_list)"
   ]
  },
  {
   "cell_type": "code",
   "execution_count": 7,
   "metadata": {
    "collapsed": true
   },
   "outputs": [],
   "source": [
    "def getPopular(testset,n):\n",
    "    movie,freq=np.unique(np.array(testset)[:,1],return_counts=True)\n",
    "    a=zip(movie,freq)\n",
    "    pop=map(lambda y:y[0],filter(lambda x:x[1]>n,a))\n",
    "    t=filter(lambda x:x[1] in pop,testset)\n",
    "    return t\n",
    "\n",
    "def getUnpopular(testset,n):\n",
    "    movie,freq=np.unique(np.array(testset)[:,1],return_counts=True)\n",
    "    a=zip(movie,freq)\n",
    "    pop=map(lambda y:y[0],filter(lambda x:x[1]<=n,a))\n",
    "    t=filter(lambda x:x[1] in pop,testset)\n",
    "    return t\n",
    "\n",
    "def getHighVariance(testset):\n",
    "    testset=getPopular(testset,4)\n",
    "    ans=(pd.DataFrame.from_records(testset).groupby(1)[2].var(ddof=False))\n",
    "    af=pd.DataFrame.from_records(np.transpose([ans.index,ans.values]))\n",
    "    high_var=af[af[1]>2]\n",
    "    high_var=high_var[0]\n",
    "    high_var=list(high_var)\n",
    "    t=filter(lambda x:x[1] in high_var,testset)\n",
    "    return t"
   ]
  },
  {
   "cell_type": "code",
   "execution_count": 9,
   "metadata": {},
   "outputs": [
    {
     "name": "stdout",
     "output_type": "stream",
     "text": [
      "Fetched popular Dataset from the original dataset\n",
      "RMSE= 0.906335783052 MAE= 0.741095540082\n",
      "RMSE= 0.931283047115 MAE= 0.753227666293\n",
      "RMSE= 0.918884048334 MAE= 0.750351012852\n",
      "RMSE= 0.899137237883 MAE= 0.736417332296\n",
      "RMSE= 0.914044597375 MAE= 0.748596399499\n",
      "RMSE= 0.910568613188 MAE= 0.744573259485\n",
      "RMSE= 0.894492535798 MAE= 0.735631809964\n",
      "RMSE= 0.890437315093 MAE= 0.738602086193\n",
      "RMSE= 0.894655992458 MAE= 0.740259244108\n",
      "RMSE= 0.905969311988 MAE= 0.741437977601\n",
      "Mean RMSE for popular Dataset= 0.906580848228\n",
      "Mean MAE for popular Dataset= 0.743019232837\n"
     ]
    }
   ],
   "source": [
    "#Question 31\n",
    "popular=getPopular(rating_matrix,2)\n",
    "print \"Fetched popular Dataset from the original dataset\"\n",
    "reader = Reader(rating_scale=(1,5))\n",
    "dfP=pd.DataFrame(popular, columns=['userId', 'movieId', 'rating', 'timestamp'])\n",
    "\n",
    "popularDataset=Dataset.load_from_df(dfP[['userId', 'movieId', 'rating']],reader)\n",
    "\n",
    "RMSE_popular=[]\n",
    "MAE_popular=[]\n",
    "\n",
    "kf = KFold(n_splits=10)\n",
    "\n",
    "for trainset, testset in kf.split(popularDataset):\n",
    "    predicted=NBFilter(testset)\n",
    "    actual=np.array(testset)[:,2]\n",
    "    RMSE=mse(actual, predicted)\n",
    "    MAE=mae(actual,predicted)\n",
    "    print \"RMSE=\",RMSE,\"MAE=\",MAE\n",
    "    RMSE_popular.append(RMSE)\n",
    "    MAE_popular.append(MAE)    \n",
    "print \"Mean RMSE for popular Dataset=\",np.mean(RMSE_popular)\n",
    "print \"Mean MAE for popular Dataset=\",np.mean(MAE_popular)"
   ]
  },
  {
   "cell_type": "code",
   "execution_count": 10,
   "metadata": {},
   "outputs": [
    {
     "name": "stdout",
     "output_type": "stream",
     "text": [
      "Fetched unpopular Dataset from the original dataset\n",
      "RMSE= 1.04064008457 MAE= 0.78154418659\n",
      "RMSE= 0.979621673227 MAE= 0.762054797936\n",
      "RMSE= 1.11219825527 MAE= 0.804579639484\n",
      "RMSE= 1.00520188683 MAE= 0.743004453334\n",
      "RMSE= 1.04490457017 MAE= 0.774793061152\n",
      "RMSE= 0.938876085654 MAE= 0.747718147747\n",
      "RMSE= 1.0739897982 MAE= 0.783620826521\n",
      "RMSE= 1.01422361489 MAE= 0.783248504868\n",
      "RMSE= 1.02247415644 MAE= 0.765808945644\n",
      "RMSE= 0.981561664428 MAE= 0.777913880668\n",
      "Mean RMSE for unpopular Dataset= 1.02136917897\n",
      "Mean MAE for unpopular Dataset= 0.772428644394\n"
     ]
    }
   ],
   "source": [
    "#Question 32\n",
    "unpopular=getUnpopular(rating_matrix,2)\n",
    "print \"Fetched unpopular Dataset from the original dataset\"\n",
    "reader = Reader(rating_scale=(1,5))\n",
    "dfP=pd.DataFrame(unpopular, columns=['userId', 'movieId', 'rating', 'timestamp'])\n",
    "\n",
    "unpopularDataset=Dataset.load_from_df(dfP[['userId', 'movieId', 'rating']],reader)\n",
    "\n",
    "RMSE_unpopular=[]\n",
    "MAE_unpopular=[]\n",
    "\n",
    "for trainset, testset in kf.split(unpopularDataset):\n",
    "    predicted=NBFilter(testset)\n",
    "    actual=np.array(testset)[:,2]\n",
    "    RMSE=mse(actual, predicted)\n",
    "    MAE=mae(actual,predicted)\n",
    "    print \"RMSE=\",RMSE,\"MAE=\",MAE\n",
    "    RMSE_unpopular.append(RMSE)\n",
    "    MAE_unpopular.append(MAE)    \n",
    "print \"Mean RMSE for unpopular Dataset=\",np.mean(RMSE_unpopular)\n",
    "print \"Mean MAE for unpopular Dataset=\",np.mean(MAE_unpopular)"
   ]
  },
  {
   "cell_type": "code",
   "execution_count": 8,
   "metadata": {},
   "outputs": [
    {
     "name": "stdout",
     "output_type": "stream",
     "text": [
      "Fetched high variance Dataset from the original dataset\n",
      "RMSE= 2.70643415533 MAE= 1.36991099242\n",
      "RMSE= 2.46184348662 MAE= 1.34490006231\n",
      "RMSE= 3.01217532071 MAE= 1.43760077665\n",
      "RMSE= 1.93243676235 MAE= 1.17544389159\n",
      "RMSE= 1.85780279764 MAE= 1.15159695919\n",
      "RMSE= 2.91311786092 MAE= 1.36387372975\n",
      "RMSE= 2.6684724921 MAE= 1.30271581604\n",
      "RMSE= 2.07083713935 MAE= 1.21345623523\n",
      "RMSE= 1.8307411001 MAE= 1.07442960091\n",
      "RMSE= 2.09404022376 MAE= 1.18505576007\n",
      "Mean RMSE for high variance Dataset= 2.35479013389\n",
      "Mean MAE for high variance Dataset= 1.26189838242\n"
     ]
    }
   ],
   "source": [
    "#Question 33\n",
    "hvd=getHighVariance(rating_matrix)\n",
    "print \"Fetched high variance Dataset from the original dataset\"\n",
    "reader = Reader(rating_scale=(1,5))\n",
    "dfP=pd.DataFrame(hvd, columns=['userId', 'movieId', 'rating', 'timestamp'])\n",
    "\n",
    "hvdDataset=Dataset.load_from_df(dfP[['userId', 'movieId', 'rating']],reader)\n",
    "\n",
    "RMSE_hvd=[]\n",
    "MAE_hvd=[]\n",
    "\n",
    "for trainset, testset in kf.split(hvdDataset):\n",
    "    predicted=NBFilter(testset)\n",
    "    actual=np.array(testset)[:,2]\n",
    "    RMSE=mse(actual, predicted)\n",
    "    MAE=mae(actual,predicted)\n",
    "    print \"RMSE=\",RMSE,\"MAE=\",MAE\n",
    "    RMSE_hvd.append(RMSE)\n",
    "    MAE_hvd.append(MAE)    \n",
    "print \"Mean RMSE for high variance Dataset=\",np.mean(RMSE_hvd)\n",
    "print \"Mean MAE for high variance Dataset=\",np.mean(MAE_hvd)"
   ]
  },
  {
   "cell_type": "code",
   "execution_count": null,
   "metadata": {
    "collapsed": true
   },
   "outputs": [],
   "source": []
  }
 ],
 "metadata": {
  "kernelspec": {
   "display_name": "Python 2",
   "language": "python",
   "name": "python2"
  },
  "language_info": {
   "codemirror_mode": {
    "name": "ipython",
    "version": 2
   },
   "file_extension": ".py",
   "mimetype": "text/x-python",
   "name": "python",
   "nbconvert_exporter": "python",
   "pygments_lexer": "ipython2",
   "version": "2.7.14"
  }
 },
 "nbformat": 4,
 "nbformat_minor": 2
}
