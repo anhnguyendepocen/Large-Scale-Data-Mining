{
 "cells": [
  {
   "cell_type": "code",
   "execution_count": 26,
   "metadata": {
    "collapsed": true
   },
   "outputs": [],
   "source": [
    "import json\n",
    "from streamio import jsonstream\n",
    "import pandas as pd\n",
    "import numpy as np\n",
    "import datetime\n",
    "import csv"
   ]
  },
  {
   "cell_type": "code",
   "execution_count": 27,
   "metadata": {},
   "outputs": [],
   "source": [
    "import sys\n",
    "reload(sys)\n",
    "sys.setdefaultencoding('utf8')\n",
    "i=0\n",
    "with open('tweets_#sb49.txt') as f:\n",
    "    for line in f:\n",
    "        if i%10000==0:\n",
    "            print i\n",
    "        i+=1\n",
    "        item=json.loads(line)\n",
    "        with open('sb49.csv', 'ab') as myfile:\n",
    "            wr = csv.writer(myfile)\n",
    "            mylist=[item[\"citation_date\"],item[\"author\"][\"name\"],item[\"metrics\"][\"citations\"][\"total\"],\n",
    "                    item[\"author\"][\"followers\"],item.get('author').get('influence_level'),\n",
    "                    item['metrics']['ranking_score'],item.get('metrics').get('citations').get('replies'),\n",
    "                    item.get('metrics').get('impressions'),item['tweet']['favorite_count'],\n",
    "                    datetime.datetime.fromtimestamp(item[\"citation_date\"]).hour,1,item['tweet']['user']['location'],\n",
    "                    item['title']]\n",
    "            wr.writerow(mylist)\n",
    "            myfile.close()"
   ]
  },
  {
   "cell_type": "code",
   "execution_count": null,
   "metadata": {
    "collapsed": true
   },
   "outputs": [],
   "source": []
  }
 ],
 "metadata": {
  "kernelspec": {
   "display_name": "Python 2",
   "language": "python",
   "name": "python2"
  },
  "language_info": {
   "codemirror_mode": {
    "name": "ipython",
    "version": 2
   },
   "file_extension": ".py",
   "mimetype": "text/x-python",
   "name": "python",
   "nbconvert_exporter": "python",
   "pygments_lexer": "ipython2",
   "version": "2.7.13"
  }
 },
 "nbformat": 4,
 "nbformat_minor": 2
}
