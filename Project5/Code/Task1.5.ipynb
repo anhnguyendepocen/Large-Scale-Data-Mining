{
 "cells": [
  {
   "cell_type": "code",
   "execution_count": 78,
   "metadata": {
    "collapsed": true
   },
   "outputs": [],
   "source": [
    "import json\n",
    "from streamio import jsonstream\n",
    "import pandas as pd\n",
    "import numpy as np\n",
    "import datetime\n",
    "import matplotlib.pyplot as plt\n",
    "import statsmodels.api as sm\n",
    "from sklearn.metrics import mean_squared_error\n",
    "from math import sqrt"
   ]
  },
  {
   "cell_type": "code",
   "execution_count": null,
   "metadata": {
    "collapsed": true
   },
   "outputs": [],
   "source": [
    "#run this once then restart your notebook\n",
    "#make sure you have a folder named\"test_data\" wherein you have stored all the testfiles\n",
    "import csv\n",
    "import sys\n",
    "reload(sys)\n",
    "sys.setdefaultencoding('utf8')\n",
    "test_data_files=['sample1_period1','sample2_period2','sample3_period3','sample4_period1','sample5_period1','sample6_period2','sample7_period3','sample8_period1','sample9_period2','sample10_period3']\n",
    "for filename in test_data_files:\n",
    "    csv_name='test_data/'+filename+'.csv'\n",
    "    with open(csv_name, 'ab') as temp:\n",
    "        writer = csv.DictWriter(temp, fieldnames = ['citation_date','author','retweetcount','follower_count','influence_level','ranking_score','replies','impressions','favorite_count','hour_of_the_day','tweet_count'])\n",
    "        writer.writeheader()        \n",
    "        temp.close()\n",
    "    s='test_data/'+filename+'.txt'    \n",
    "    with open(s) as f:\n",
    "        for line in f:\n",
    "            item=json.loads(line)\n",
    "            with open(csv_name, 'ab') as myfile:\n",
    "                wr = csv.writer(myfile)\n",
    "                mylist=[item[\"citation_date\"],item[\"author\"][\"name\"],item[\"metrics\"][\"citations\"][\"total\"],item[\"author\"][\"followers\"],item.get('author').get('influence_level'),item['metrics']['ranking_score'],item.get('metrics').get('citations').get('replies'),item.get('metrics').get('impressions'),item['tweet']['favorite_count'],datetime.datetime.fromtimestamp(item[\"citation_date\"]).hour,1]\n",
    "                wr.writerow(mylist)\n",
    "                myfile.close()"
   ]
  },
  {
   "cell_type": "code",
   "execution_count": 79,
   "metadata": {
    "collapsed": true
   },
   "outputs": [],
   "source": [
    "features=['hour_of_the_day','retweetcount','follower_count','influence_level','replies','ranking_score','impressions','favorite_count','tweet_count']\n",
    "files=['gopatriots','gohawks','patriots','nfl','sb49','superbowl']\n",
    "import datetime, time\n",
    "import pytz\n",
    "ptz = pytz.timezone('US/Pacific')"
   ]
  },
  {
   "cell_type": "code",
   "execution_count": 80,
   "metadata": {
    "collapsed": true
   },
   "outputs": [],
   "source": [
    "consolidated=[]\n",
    "for f in files:\n",
    "    filename=f+'.csv'\n",
    "    n=pd.read_csv(filename)\n",
    "    temp=n\n",
    "    temp['citation_date']=n['citation_date']//60//60\n",
    "    \n",
    "    temp=temp.groupby(['citation_date','hour_of_the_day'])['retweetcount','follower_count','influence_level','replies','ranking_score','impressions','favorite_count','tweet_count'].sum()\n",
    "    temp=temp.reset_index()\n",
    "    consolidated.append(temp)\n",
    "    \n",
    "total=pd.concat(consolidated)\n",
    "total=total.fillna(0)"
   ]
  },
  {
   "cell_type": "code",
   "execution_count": 86,
   "metadata": {
    "collapsed": true
   },
   "outputs": [],
   "source": [
    "temp=total.groupby(['citation_date','hour_of_the_day'])['retweetcount','follower_count','influence_level','replies','ranking_score','impressions','favorite_count','tweet_count'].mean()\n",
    "temp=temp.reset_index()\n",
    "yyy=temp[4:]"
   ]
  },
  {
   "cell_type": "code",
   "execution_count": 87,
   "metadata": {
    "collapsed": true
   },
   "outputs": [],
   "source": [
    "indexed=temp.set_index(['citation_date'])"
   ]
  },
  {
   "cell_type": "code",
   "execution_count": 88,
   "metadata": {
    "collapsed": true
   },
   "outputs": [],
   "source": [
    "#sliding window of 5 hours\n",
    "final_output=indexed.rolling(5).mean()\n"
   ]
  },
  {
   "cell_type": "code",
   "execution_count": 90,
   "metadata": {},
   "outputs": [
    {
     "data": {
      "text/plain": [
       "RandomForestRegressor(bootstrap=True, criterion='mse', max_depth=None,\n",
       "           max_features='auto', max_leaf_nodes=None,\n",
       "           min_impurity_decrease=0.0, min_impurity_split=None,\n",
       "           min_samples_leaf=1, min_samples_split=2,\n",
       "           min_weight_fraction_leaf=0.0, n_estimators=70, n_jobs=1,\n",
       "           oob_score=False, random_state=0, verbose=0, warm_start=False)"
      ]
     },
     "execution_count": 90,
     "metadata": {},
     "output_type": "execute_result"
    }
   ],
   "source": [
    "from sklearn.ensemble import RandomForestRegressor\n",
    "regr = RandomForestRegressor(n_estimators=70, random_state=0)\n",
    "a=final_output[4:]\n",
    "\n",
    "x_data=np.array(a.iloc[:,0:])\n",
    "y_data=np.array(yyy.iloc[:,9])\n",
    "x_data=np.nan_to_num(x_data)\n",
    "x_data=x_data[:-1]\n",
    "y_data=y_data[1:]\n",
    "regr = RandomForestRegressor(n_estimators=70, random_state=0)\n",
    "regr.fit(x_data,y_data)\n"
   ]
  },
  {
   "cell_type": "code",
   "execution_count": 115,
   "metadata": {},
   "outputs": [
    {
     "name": "stdout",
     "output_type": "stream",
     "text": [
      "test_data/sample1_period1.csv\n",
      "sample1_period1\n",
      "Predicted:  [ 84.24333333]\n",
      "Actual:  1\n",
      "test_data/sample2_period2.csv\n",
      "sample2_period2\n",
      "Predicted:  [ 25.32095238]\n",
      "Actual:  4\n",
      "test_data/sample3_period3.csv\n",
      "sample3_period3\n",
      "Predicted:  [ 1172.27238095]\n",
      "Actual:  523\n",
      "test_data/sample4_period1.csv\n",
      "sample4_period1\n",
      "Predicted:  [ 184.39428571]\n",
      "Actual:  201\n",
      "test_data/sample5_period1.csv\n",
      "sample5_period1\n",
      "Predicted:  [ 132.19714286]\n",
      "Actual:  1\n",
      "test_data/sample6_period2.csv\n",
      "sample6_period2\n",
      "Predicted:  [ 31.60190476]\n",
      "Actual:  14\n",
      "test_data/sample7_period3.csv\n",
      "sample7_period3\n",
      "Predicted:  [ 71.05761905]\n",
      "Actual:  120\n",
      "test_data/sample9_period2.csv\n",
      "sample9_period2\n",
      "Predicted:  [ 1621.61714286]\n",
      "Actual:  1\n",
      "test_data/sample10_period3.csv\n",
      "sample10_period3\n",
      "Predicted:  [ 37.68571429]\n",
      "Actual:  61\n"
     ]
    }
   ],
   "source": [
    "from sklearn.metrics import mean_absolute_error\n",
    "test_data_files=['sample1_period1','sample2_period2','sample3_period3','sample4_period1','sample5_period1','sample6_period2','sample7_period3','sample9_period2','sample10_period3']\n",
    "actual=[]\n",
    "predicted_list=[]\n",
    "for filename in test_data_files:\n",
    "    csv_name='test_data/'+filename+'.csv'\n",
    "    print csv_name\n",
    "    n=pd.read_csv(csv_name)\n",
    "    n.fillna(0)\n",
    "    temp=n\n",
    "    \n",
    "    temp['citation_date']=n['citation_date']//60//60\n",
    "    test=temp.groupby(['citation_date','hour_of_the_day'])['retweetcount','follower_count','influence_level','replies','ranking_score','impressions','favorite_count','tweet_count'].sum()\n",
    "    test=test.reset_index()\n",
    "    l=len(test)-1\n",
    "    t=test[l-5:l]\n",
    "    c=np.array(t.mean())[1:].reshape(1,-1)\n",
    "    pred= regr.predict(c)\n",
    "    actual.append(np.array(test[l:]['tweet_count'])[0])\n",
    "    predicted_list.append(pred[0])\n",
    "    print filename\n",
    "    print \"Predicted: \", pred\n",
    "    print \"Actual: \", np.array(test[l:]['tweet_count'])[0]"
   ]
  },
  {
   "cell_type": "code",
   "execution_count": 116,
   "metadata": {},
   "outputs": [
    {
     "name": "stdout",
     "output_type": "stream",
     "text": [
      "[1, 4, 523, 201, 1, 14, 120, 1, 61]\n",
      "[84.243333333333354, 25.320952380952384, 1172.2723809523809, 184.39428571428576, 132.19714285714281, 31.601904761904773, 71.057619047619042, 1621.6171428571424, 37.685714285714283]\n"
     ]
    }
   ],
   "source": [
    "print actual\n",
    "print predicted_list"
   ]
  }
 ],
 "metadata": {
  "kernelspec": {
   "display_name": "Python 2",
   "language": "python",
   "name": "python2"
  },
  "language_info": {
   "codemirror_mode": {
    "name": "ipython",
    "version": 2
   },
   "file_extension": ".py",
   "mimetype": "text/x-python",
   "name": "python",
   "nbconvert_exporter": "python",
   "pygments_lexer": "ipython2",
   "version": "2.7.13"
  }
 },
 "nbformat": 4,
 "nbformat_minor": 2
}
