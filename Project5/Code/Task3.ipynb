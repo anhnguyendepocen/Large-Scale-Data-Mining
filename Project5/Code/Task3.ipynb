{
 "cells": [
  {
   "cell_type": "code",
   "execution_count": 1,
   "metadata": {
    "collapsed": true
   },
   "outputs": [],
   "source": [
    "from textblob import TextBlob\n",
    "import json\n",
    "import re\n",
    "import urllib\n",
    "import datetime\n",
    "import pandas as pd\n",
    "import numpy as np\n",
    "import math\n",
    "import matplotlib.pyplot as plt\n",
    "from nltk.corpus import sentiwordnet as swn\n",
    "import nltk\n",
    "from nltk.corpus import stopwords\n",
    "from nltk.tokenize import word_tokenize\n",
    "import pytz"
   ]
  },
  {
   "cell_type": "code",
   "execution_count": 2,
   "metadata": {
    "collapsed": true
   },
   "outputs": [],
   "source": [
    "df=pd.read_csv(\"gohawks_sentiment.csv\")"
   ]
  },
  {
   "cell_type": "code",
   "execution_count": 3,
   "metadata": {
    "collapsed": true
   },
   "outputs": [],
   "source": [
    "pst_tz = pytz.timezone('US/Pacific')"
   ]
  },
  {
   "cell_type": "code",
   "execution_count": 4,
   "metadata": {
    "collapsed": true
   },
   "outputs": [],
   "source": [
    "pattern='Redmund, WA|Seattle, WA|Kirkland, WA|Seattle|Washington|WA$|Kirkland,'\n",
    "pattern_pat ='MA,Boston|MA$|Massachusetts'"
   ]
  },
  {
   "cell_type": "code",
   "execution_count": 16,
   "metadata": {
    "collapsed": true
   },
   "outputs": [],
   "source": [
    "df=df[df['location'].str.contains(pattern, na = False)]"
   ]
  },
  {
   "cell_type": "code",
   "execution_count": 17,
   "metadata": {},
   "outputs": [
    {
     "data": {
      "text/html": [
       "<div>\n",
       "<style>\n",
       "    .dataframe thead tr:only-child th {\n",
       "        text-align: right;\n",
       "    }\n",
       "\n",
       "    .dataframe thead th {\n",
       "        text-align: left;\n",
       "    }\n",
       "\n",
       "    .dataframe tbody tr th {\n",
       "        vertical-align: top;\n",
       "    }\n",
       "</style>\n",
       "<table border=\"1\" class=\"dataframe\">\n",
       "  <thead>\n",
       "    <tr style=\"text-align: right;\">\n",
       "      <th></th>\n",
       "      <th>citation_date</th>\n",
       "      <th>firstpost_date</th>\n",
       "      <th>author</th>\n",
       "      <th>total_citations</th>\n",
       "      <th>followers</th>\n",
       "      <th>influence_level</th>\n",
       "      <th>ranking_score</th>\n",
       "      <th>replies</th>\n",
       "      <th>impressions</th>\n",
       "      <th>favourite_count</th>\n",
       "      <th>hour</th>\n",
       "      <th>1</th>\n",
       "      <th>location</th>\n",
       "      <th>title</th>\n",
       "    </tr>\n",
       "  </thead>\n",
       "  <tbody>\n",
       "    <tr>\n",
       "      <th>1</th>\n",
       "      <td>1421259536</td>\n",
       "      <td>1419864008</td>\n",
       "      <td>Marina EQ</td>\n",
       "      <td>2</td>\n",
       "      <td>258</td>\n",
       "      <td>NaN</td>\n",
       "      <td>3.646109</td>\n",
       "      <td>0</td>\n",
       "      <td>162</td>\n",
       "      <td>0</td>\n",
       "      <td>10</td>\n",
       "      <td>1</td>\n",
       "      <td>Redmond, WA</td>\n",
       "      <td>twelfth dogs are ready! #gohawks #dogslife htt...</td>\n",
       "    </tr>\n",
       "    <tr>\n",
       "      <th>3</th>\n",
       "      <td>1421468519</td>\n",
       "      <td>1419881240</td>\n",
       "      <td>Becca Delgado</td>\n",
       "      <td>5</td>\n",
       "      <td>22</td>\n",
       "      <td>NaN</td>\n",
       "      <td>3.500887</td>\n",
       "      <td>0</td>\n",
       "      <td>5</td>\n",
       "      <td>0</td>\n",
       "      <td>20</td>\n",
       "      <td>1</td>\n",
       "      <td>Seattle</td>\n",
       "      <td>\"Oh no big deal, just NFC West Champs and the ...</td>\n",
       "    </tr>\n",
       "    <tr>\n",
       "      <th>8</th>\n",
       "      <td>1421468247</td>\n",
       "      <td>1419986583</td>\n",
       "      <td>Becca Delgado</td>\n",
       "      <td>2</td>\n",
       "      <td>22</td>\n",
       "      <td>NaN</td>\n",
       "      <td>4.304159</td>\n",
       "      <td>0</td>\n",
       "      <td>5</td>\n",
       "      <td>1</td>\n",
       "      <td>20</td>\n",
       "      <td>1</td>\n",
       "      <td>Seattle, WA</td>\n",
       "      <td>Hi my name is Lori and I'm a @Seahawks addict!...</td>\n",
       "    </tr>\n",
       "    <tr>\n",
       "      <th>9</th>\n",
       "      <td>1421468176</td>\n",
       "      <td>1420042851</td>\n",
       "      <td>Becca Delgado</td>\n",
       "      <td>2</td>\n",
       "      <td>22</td>\n",
       "      <td>NaN</td>\n",
       "      <td>3.718140</td>\n",
       "      <td>0</td>\n",
       "      <td>5</td>\n",
       "      <td>1</td>\n",
       "      <td>20</td>\n",
       "      <td>1</td>\n",
       "      <td>McChord AFB, WA</td>\n",
       "      <td>@FiveThirtyEight #GoHawks. Keep your eyes on t...</td>\n",
       "    </tr>\n",
       "    <tr>\n",
       "      <th>10</th>\n",
       "      <td>1421468144</td>\n",
       "      <td>1420052779</td>\n",
       "      <td>Becca Delgado</td>\n",
       "      <td>2</td>\n",
       "      <td>22</td>\n",
       "      <td>NaN</td>\n",
       "      <td>3.441431</td>\n",
       "      <td>0</td>\n",
       "      <td>5</td>\n",
       "      <td>6</td>\n",
       "      <td>20</td>\n",
       "      <td>1</td>\n",
       "      <td>Washington state</td>\n",
       "      <td>One of my Favorite Hawk logos that went around...</td>\n",
       "    </tr>\n",
       "  </tbody>\n",
       "</table>\n",
       "</div>"
      ],
      "text/plain": [
       "    citation_date  firstpost_date         author  total_citations  followers  \\\n",
       "1      1421259536      1419864008      Marina EQ                2        258   \n",
       "3      1421468519      1419881240  Becca Delgado                5         22   \n",
       "8      1421468247      1419986583  Becca Delgado                2         22   \n",
       "9      1421468176      1420042851  Becca Delgado                2         22   \n",
       "10     1421468144      1420052779  Becca Delgado                2         22   \n",
       "\n",
       "    influence_level  ranking_score  replies  impressions  favourite_count  \\\n",
       "1               NaN       3.646109        0          162                0   \n",
       "3               NaN       3.500887        0            5                0   \n",
       "8               NaN       4.304159        0            5                1   \n",
       "9               NaN       3.718140        0            5                1   \n",
       "10              NaN       3.441431        0            5                6   \n",
       "\n",
       "    hour  1          location  \\\n",
       "1     10  1       Redmond, WA   \n",
       "3     20  1           Seattle   \n",
       "8     20  1       Seattle, WA   \n",
       "9     20  1   McChord AFB, WA   \n",
       "10    20  1  Washington state   \n",
       "\n",
       "                                                title  \n",
       "1   twelfth dogs are ready! #gohawks #dogslife htt...  \n",
       "3   \"Oh no big deal, just NFC West Champs and the ...  \n",
       "8   Hi my name is Lori and I'm a @Seahawks addict!...  \n",
       "9   @FiveThirtyEight #GoHawks. Keep your eyes on t...  \n",
       "10  One of my Favorite Hawk logos that went around...  "
      ]
     },
     "execution_count": 17,
     "metadata": {},
     "output_type": "execute_result"
    }
   ],
   "source": [
    "df.head()"
   ]
  },
  {
   "cell_type": "code",
   "execution_count": 18,
   "metadata": {},
   "outputs": [
    {
     "name": "stdout",
     "output_type": "stream",
     "text": [
      "Total tweets read= 3470\n"
     ]
    }
   ],
   "source": [
    "sentences=[]\n",
    "\n",
    "for row in df.itertuples(2):\n",
    "    tweet_date = row.citation_date\n",
    "    #tweet_dt = datetime.datetime.fromtimestamp(tweet_date)\n",
    "    tweet_dt = datetime.datetime.fromtimestamp(tweet_date, pst_tz)\n",
    "    day = tweet_dt.day\n",
    "    month = tweet_dt.month\n",
    "    time = tweet_dt.hour\n",
    "    if day == 01 and month == 02 and time >= 18:\n",
    "        tweet = row.title            \n",
    "        tweet = tweet.replace(\"@\",\"\")\n",
    "        tweet = tweet.replace(\"\\n\", \" \")\n",
    "        tweet = re.sub(r'[^\\x00-\\x7F]+',' ', tweet)\n",
    "        blob = TextBlob(tweet)\n",
    "        #blob.translate(to='es')\n",
    "        if blob.detect_language() != 'en':\n",
    "            continue\n",
    "\n",
    "        tweet_split = blob.split(\" \")\n",
    "        words=[]\n",
    "        for word in tweet_split:\n",
    "            if word.startswith(\"http\") or word.startswith(\"#\"):\n",
    "                pass\n",
    "            else:\n",
    "                words.append(word)\n",
    "\n",
    "        new_tweet=\"\"\n",
    "\n",
    "        for word in words:\n",
    "            new_tweet = new_tweet + word + \" \"\n",
    "            \n",
    "        new_tweet.strip()\n",
    "\n",
    "        sentences.append(new_tweet)\n",
    "                        \n",
    "print \"Total tweets read=\",len(sentences)"
   ]
  },
  {
   "cell_type": "code",
   "execution_count": 6,
   "metadata": {
    "collapsed": true
   },
   "outputs": [],
   "source": [
    "def sentiWordAnalysis(example_sent):\n",
    "    stop_words = set(stopwords.words('english'))\n",
    "    word_tokens = word_tokenize(example_sent)\n",
    "    filtered_sentence = [w for w in word_tokens if not w in stop_words]\n",
    "    pos=neg=0\n",
    "    for word in filtered_sentence:\n",
    "        #print \"word=\",word\n",
    "        if swn.senti_synsets(word):\n",
    "            ss_set = list(swn.senti_synsets(word))[0]\n",
    "            if ss_set:\n",
    "                pos = pos+ss_set.pos_score()\n",
    "                neg = neg+ss_set.neg_score()\n",
    "                #obj = obj+swn.synsets.obj.score()\n",
    "\n",
    "    #print \"Positive=\",pos\n",
    "    #print \"Negative=\",neg\n",
    "    return pos, neg"
   ]
  },
  {
   "cell_type": "code",
   "execution_count": 19,
   "metadata": {},
   "outputs": [
    {
     "name": "stdout",
     "output_type": "stream",
     "text": [
      "Total Positive= 1439\n",
      "Total Negative= 2031\n"
     ]
    }
   ],
   "source": [
    "pos_count=0\n",
    "neg_count=0\n",
    "pos_val=0\n",
    "neg_val=0\n",
    "values=[]\n",
    "count=0\n",
    "\n",
    "for i in range(0, len(sentences)):\n",
    "    pos, neg = sentiWordAnalysis(sentences[i])\n",
    "    if pos > neg:\n",
    "        pos_count+=1\n",
    "        values.append(1)\n",
    "    else:\n",
    "        neg_count+=1\n",
    "        values.append(-1)\n",
    "\n",
    "print \"Total Positive=\", pos_count\n",
    "print \"Total Negative=\", neg_count"
   ]
  },
  {
   "cell_type": "code",
   "execution_count": 26,
   "metadata": {},
   "outputs": [
    {
     "name": "stdout",
     "output_type": "stream",
     "text": [
      "391\n"
     ]
    }
   ],
   "source": [
    "print count"
   ]
  },
  {
   "cell_type": "code",
   "execution_count": 20,
   "metadata": {},
   "outputs": [
    {
     "data": {
      "image/png": "[encoded data removed]",
      "text/plain": [
       "<matplotlib.figure.Figure at 0x41ff3860>"
      ]
     },
     "metadata": {},
     "output_type": "display_data"
    }
   ],
   "source": [
    "plt.bar(range(0, len(values)), values, edgecolor='none',color='b')\n",
    "plt.xlabel(\"Number of Sentiment Word\")\n",
    "plt.ylabel(\"Value of Sentiment Word\")\n",
    "plt.title(\"Value of sentiment word per sentiment word in Seattle\")\n",
    "plt.show()"
   ]
  },
  {
   "cell_type": "code",
   "execution_count": 10,
   "metadata": {
    "collapsed": true
   },
   "outputs": [],
   "source": [
    "DF=pd.read_csv(\"gopatriots_all.csv\")"
   ]
  },
  {
   "cell_type": "code",
   "execution_count": 11,
   "metadata": {
    "collapsed": true
   },
   "outputs": [],
   "source": [
    "DF=DF[DF['location'].str.contains(pattern_pat, na = False)]"
   ]
  },
  {
   "cell_type": "code",
   "execution_count": 12,
   "metadata": {},
   "outputs": [
    {
     "data": {
      "text/html": [
       "<div>\n",
       "<style>\n",
       "    .dataframe thead tr:only-child th {\n",
       "        text-align: right;\n",
       "    }\n",
       "\n",
       "    .dataframe thead th {\n",
       "        text-align: left;\n",
       "    }\n",
       "\n",
       "    .dataframe tbody tr th {\n",
       "        vertical-align: top;\n",
       "    }\n",
       "</style>\n",
       "<table border=\"1\" class=\"dataframe\">\n",
       "  <thead>\n",
       "    <tr style=\"text-align: right;\">\n",
       "      <th></th>\n",
       "      <th>citation_date</th>\n",
       "      <th>author</th>\n",
       "      <th>retweetcount</th>\n",
       "      <th>follower_count</th>\n",
       "      <th>influence_level</th>\n",
       "      <th>ranking_score</th>\n",
       "      <th>replies</th>\n",
       "      <th>impressions</th>\n",
       "      <th>favorite_count</th>\n",
       "      <th>hour_of_the_day</th>\n",
       "      <th>tweet_count</th>\n",
       "      <th>location</th>\n",
       "      <th>title</th>\n",
       "    </tr>\n",
       "  </thead>\n",
       "  <tbody>\n",
       "    <tr>\n",
       "      <th>0</th>\n",
       "      <td>1421257541</td>\n",
       "      <td>Alex Kroll</td>\n",
       "      <td>6</td>\n",
       "      <td>2895</td>\n",
       "      <td>NaN</td>\n",
       "      <td>4.640276</td>\n",
       "      <td>0</td>\n",
       "      <td>2695</td>\n",
       "      <td>0</td>\n",
       "      <td>9</td>\n",
       "      <td>1</td>\n",
       "      <td>Boston, Massachusetts</td>\n",
       "      <td>LeGarrette Blount does the Ray Lewis Dance #Th...</td>\n",
       "    </tr>\n",
       "    <tr>\n",
       "      <th>7</th>\n",
       "      <td>1421241439</td>\n",
       "      <td>Christina Ballin</td>\n",
       "      <td>2</td>\n",
       "      <td>34</td>\n",
       "      <td>0.0</td>\n",
       "      <td>4.016089</td>\n",
       "      <td>0</td>\n",
       "      <td>16</td>\n",
       "      <td>0</td>\n",
       "      <td>5</td>\n",
       "      <td>1</td>\n",
       "      <td>Boston, Massachusetts</td>\n",
       "      <td>@christinaballin thanks for the follow! \\r\\n#G...</td>\n",
       "    </tr>\n",
       "    <tr>\n",
       "      <th>15</th>\n",
       "      <td>1421248980</td>\n",
       "      <td>Kathleen Williams</td>\n",
       "      <td>1</td>\n",
       "      <td>1101</td>\n",
       "      <td>NaN</td>\n",
       "      <td>3.985633</td>\n",
       "      <td>0</td>\n",
       "      <td>1064</td>\n",
       "      <td>0</td>\n",
       "      <td>7</td>\n",
       "      <td>1</td>\n",
       "      <td>Massachusetts</td>\n",
       "      <td>@honeychocolate9 You too!! Only 4 more days un...</td>\n",
       "    </tr>\n",
       "    <tr>\n",
       "      <th>21</th>\n",
       "      <td>1421261228</td>\n",
       "      <td>Joe Chancler</td>\n",
       "      <td>1</td>\n",
       "      <td>132</td>\n",
       "      <td>1.0</td>\n",
       "      <td>3.584905</td>\n",
       "      <td>0</td>\n",
       "      <td>131</td>\n",
       "      <td>0</td>\n",
       "      <td>10</td>\n",
       "      <td>1</td>\n",
       "      <td>Boston, MA</td>\n",
       "      <td>@NESportsFan1106 thank you for the follow back...</td>\n",
       "    </tr>\n",
       "    <tr>\n",
       "      <th>41</th>\n",
       "      <td>1421327128</td>\n",
       "      <td>Boston Sports Fan</td>\n",
       "      <td>1</td>\n",
       "      <td>3811</td>\n",
       "      <td>NaN</td>\n",
       "      <td>4.523253</td>\n",
       "      <td>0</td>\n",
       "      <td>3391</td>\n",
       "      <td>0</td>\n",
       "      <td>5</td>\n",
       "      <td>1</td>\n",
       "      <td>Boston, Massachusetts</td>\n",
       "      <td>@mrsawesome143 thanks for the follow! \\r\\n#GoP...</td>\n",
       "    </tr>\n",
       "  </tbody>\n",
       "</table>\n",
       "</div>"
      ],
      "text/plain": [
       "    citation_date             author  retweetcount  follower_count  \\\n",
       "0      1421257541         Alex Kroll             6            2895   \n",
       "7      1421241439   Christina Ballin             2              34   \n",
       "15     1421248980  Kathleen Williams             1            1101   \n",
       "21     1421261228       Joe Chancler             1             132   \n",
       "41     1421327128  Boston Sports Fan             1            3811   \n",
       "\n",
       "    influence_level  ranking_score  replies  impressions  favorite_count  \\\n",
       "0               NaN       4.640276        0         2695               0   \n",
       "7               0.0       4.016089        0           16               0   \n",
       "15              NaN       3.985633        0         1064               0   \n",
       "21              1.0       3.584905        0          131               0   \n",
       "41              NaN       4.523253        0         3391               0   \n",
       "\n",
       "    hour_of_the_day  tweet_count               location  \\\n",
       "0                 9            1  Boston, Massachusetts   \n",
       "7                 5            1  Boston, Massachusetts   \n",
       "15                7            1          Massachusetts   \n",
       "21               10            1             Boston, MA   \n",
       "41                5            1  Boston, Massachusetts   \n",
       "\n",
       "                                                title  \n",
       "0   LeGarrette Blount does the Ray Lewis Dance #Th...  \n",
       "7   @christinaballin thanks for the follow! \\r\\n#G...  \n",
       "15  @honeychocolate9 You too!! Only 4 more days un...  \n",
       "21  @NESportsFan1106 thank you for the follow back...  \n",
       "41  @mrsawesome143 thanks for the follow! \\r\\n#GoP...  "
      ]
     },
     "execution_count": 12,
     "metadata": {},
     "output_type": "execute_result"
    }
   ],
   "source": [
    "DF.head()"
   ]
  },
  {
   "cell_type": "code",
   "execution_count": 13,
   "metadata": {},
   "outputs": [
    {
     "name": "stdout",
     "output_type": "stream",
     "text": [
      "Total tweets read= 2646\n"
     ]
    }
   ],
   "source": [
    "sentences_pat=[]\n",
    "\n",
    "for row in DF.itertuples(2):\n",
    "    tweet_date = row.citation_date\n",
    "    tweet_dt = datetime.datetime.fromtimestamp(tweet_date, pst_tz)\n",
    "    day = tweet_dt.day\n",
    "    month = tweet_dt.month\n",
    "    time = tweet_dt.hour\n",
    "    if day == 01 and month == 02 and time >= 18:\n",
    "        tweet = row.title            \n",
    "        tweet = tweet.replace(\"@\",\"\")\n",
    "        tweet = tweet.replace(\"\\n\", \" \")\n",
    "        tweet = re.sub(r'[^\\x00-\\x7F]+',' ', tweet)\n",
    "        blob = TextBlob(tweet)\n",
    "        #blob.translate(to='es')\n",
    "        if blob.detect_language() != 'en':\n",
    "            continue\n",
    "\n",
    "        tweet_split = blob.split(\" \")\n",
    "        words=[]\n",
    "        for word in tweet_split:\n",
    "            if word.startswith(\"http\") or word.startswith(\"#\"):\n",
    "                pass\n",
    "            else:\n",
    "                words.append(word)\n",
    "\n",
    "        new_tweet=\"\"\n",
    "\n",
    "        for word in words:\n",
    "            new_tweet = new_tweet + word + \" \"\n",
    "            \n",
    "        new_tweet.strip()\n",
    "\n",
    "        sentences_pat.append(new_tweet)\n",
    "                        \n",
    "print \"Total tweets read=\",len(sentences_pat)"
   ]
  },
  {
   "cell_type": "code",
   "execution_count": 14,
   "metadata": {},
   "outputs": [
    {
     "name": "stdout",
     "output_type": "stream",
     "text": [
      "Total Positive= 1109\n",
      "Total Negative= 484\n"
     ]
    }
   ],
   "source": [
    "pos_count_p=0\n",
    "neg_count_p=0\n",
    "values_pat=[]\n",
    "\n",
    "for i in range(0, len(sentences_pat)):\n",
    "    pos, neg = sentiWordAnalysis(sentences_pat[i])\n",
    "    if pos > neg:\n",
    "        pos_count_p+=1\n",
    "        values_pat.append(1)\n",
    "    elif neg > pos:\n",
    "        neg_count_p+=1\n",
    "        values_pat.append(-1)\n",
    "    else:\n",
    "        continue\n",
    "\n",
    "print \"Total Positive=\", pos_count_p\n",
    "print \"Total Negative=\", neg_count_p"
   ]
  },
  {
   "cell_type": "code",
   "execution_count": 15,
   "metadata": {},
   "outputs": [
    {
     "data": {
      "image/png": "[encoded data removed]",
      "text/plain": [
       "<matplotlib.figure.Figure at 0x388f0d68>"
      ]
     },
     "metadata": {},
     "output_type": "display_data"
    }
   ],
   "source": [
    "plt.bar(range(0, len(values_pat)), values_pat, edgecolor='none',color='b')\n",
    "plt.xlabel(\"Number of Sentiment Word\")\n",
    "plt.ylabel(\"Value of Sentiment Word\")\n",
    "plt.title(\"Value of sentiment word per sentiment word in Boston\")\n",
    "plt.show()"
   ]
  },
  {
   "cell_type": "code",
   "execution_count": null,
   "metadata": {
    "collapsed": true
   },
   "outputs": [],
   "source": []
  }
 ],
 "metadata": {
  "kernelspec": {
   "display_name": "Python 2",
   "language": "python",
   "name": "python2"
  },
  "language_info": {
   "codemirror_mode": {
    "name": "ipython",
    "version": 2
   },
   "file_extension": ".py",
   "mimetype": "text/x-python",
   "name": "python",
   "nbconvert_exporter": "python",
   "pygments_lexer": "ipython2",
   "version": "2.7.14"
  }
 },
 "nbformat": 4,
 "nbformat_minor": 2
}
