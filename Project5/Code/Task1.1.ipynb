{
 "cells": [
  {
   "cell_type": "code",
   "execution_count": 1,
   "metadata": {
    "collapsed": true
   },
   "outputs": [],
   "source": [
    "import pandas as pd\n",
    "import numpy as np\n",
    "import matplotlib.pyplot as plt"
   ]
  },
  {
   "cell_type": "code",
   "execution_count": null,
   "metadata": {
    "collapsed": true
   },
   "outputs": [],
   "source": [
    "#In this step we create a all.csv file containing tweet data from all the hashtags. This would be used in later tasks.\n",
    "fout=open(\"all.csv\",\"a\")\n",
    "fileslist=[\"gohawks\", \"gopatriots\",\"nfl\",\"patriots\",\"sb49\",\"superbowl\"]\n",
    "# first file:\n",
    "for line in open(\"csv/gohawks.csv\"):\n",
    "    fout.write(line)\n",
    "# now the rest:    \n",
    "for num in range(1,len(fileslist)):\n",
    "    f = open(\"csv/\"+fileslist[num]+\".csv\")\n",
    "    f.next() # skip the header\n",
    "    for line in f:\n",
    "         fout.write(line)\n",
    "    f.close() # not really needed\n",
    "fout.close()"
   ]
  },
  {
   "cell_type": "code",
   "execution_count": null,
   "metadata": {
    "collapsed": true
   },
   "outputs": [],
   "source": [
    "df=pd.read_csv(\"all.csv\")"
   ]
  },
  {
   "cell_type": "code",
   "execution_count": null,
   "metadata": {
    "collapsed": true
   },
   "outputs": [],
   "source": [
    "len(df)"
   ]
  },
  {
   "cell_type": "code",
   "execution_count": null,
   "metadata": {
    "collapsed": true
   },
   "outputs": [],
   "source": [
    "df[\"citation_date\"]=df[\"citation_date\"]/60//60"
   ]
  },
  {
   "cell_type": "code",
   "execution_count": 2,
   "metadata": {
    "collapsed": true
   },
   "outputs": [],
   "source": [
    "#Average number of Tweets is total number of tweets/total number of hours\n",
    "from __future__ import division\n",
    "def avgTweets(df):\n",
    "    tw=len(df)\n",
    "    #total number of hours\n",
    "    th=df.groupby([\"citation_date\"]).size()\n",
    "    s=th.size\n",
    "    result= tw/s\n",
    "    print \"Average number of tweets per hour is : \",result\n",
    "    return result"
   ]
  },
  {
   "cell_type": "code",
   "execution_count": 3,
   "metadata": {
    "collapsed": true
   },
   "outputs": [],
   "source": [
    "from __future__ import division\n",
    "#average followers= total followers/total tweets\n",
    "\n",
    "def avgFollowers(df):\n",
    "    a=df[\"follower_count\"].sum()\n",
    "    print \"total followers: \"+str(a)\n",
    "    #this is total number of users \n",
    "    b=len(df)\n",
    "    print \"total users: \"+str(b)\n",
    "\n",
    "\n",
    "    #Average number of followers of users posting the tweets = total followers/ total users\n",
    "    print \"Average number of followers of users posting the tweets =\", a/b\n",
    "    return a/b"
   ]
  },
  {
   "cell_type": "code",
   "execution_count": 5,
   "metadata": {
    "collapsed": true
   },
   "outputs": [],
   "source": [
    "def avgRetweets(df):\n",
    "    #Average number of retweets = total number of retweets/total number of tweets\n",
    "    c=df[\"retweetcount\"].sum()\n",
    "    print \"total retweets : \"+str(c)\n",
    "    d=len(df)\n",
    "    print \"total tweets : \"+str(d)\n",
    "    print \"Average number of retweets : \",c/d\n",
    "    return c/d"
   ]
  },
  {
   "cell_type": "code",
   "execution_count": 6,
   "metadata": {},
   "outputs": [
    {
     "name": "stdout",
     "output_type": "stream",
     "text": [
      "Avg tweets of #gohawks\n",
      "Average number of tweets per hour is :  328.909090909\n",
      "328.909090909\n",
      "---------------------------------------------------\n",
      "Avg followers of users posting tweets of #gohawks\n",
      "total followers: 414638907.0\n",
      "total users: 188136\n",
      "Average number of followers of users posting the tweets = 2203.93176744\n",
      "2203.93176744\n",
      "---------------------------------------------------\n",
      "Avg retweets of #gohawks\n",
      "total retweets : 379022\n",
      "total tweets : 188136\n",
      "Average number of retweets :  2.01461708551\n",
      "2.01461708551\n",
      "---------------------------------------------------\n"
     ]
    }
   ],
   "source": [
    "df_gohawks=pd.read_csv(\"csv/gohawks.csv\")\n",
    "df_gohawks[\"citation_date\"]=df_gohawks[\"citation_date\"]/60//60\n",
    "print \"Avg tweets of #gohawks\\n\",avgTweets(df_gohawks)\n",
    "print \"---------------------------------------------------\"\n",
    "print \"Avg followers of users posting tweets of #gohawks\\n\",avgFollowers(df_gohawks)\n",
    "print \"---------------------------------------------------\"\n",
    "print \"Avg retweets of #gohawks\\n\",avgRetweets(df_gohawks)\n",
    "print \"---------------------------------------------------\""
   ]
  },
  {
   "cell_type": "code",
   "execution_count": 7,
   "metadata": {},
   "outputs": [
    {
     "name": "stdout",
     "output_type": "stream",
     "text": [
      "Avg tweets of #gopatriots\n",
      "Average number of tweets per hour is :  58.6845637584\n",
      "58.6845637584\n",
      "---------------------------------------------------\n",
      "Avg followers of users posting tweets of #gopatriots\n",
      "total followers: 36774523.0\n",
      "total users: 26232\n",
      "Average number of followers of users posting the tweets = 1401.8955093\n",
      "1401.8955093\n",
      "---------------------------------------------------\n",
      "Avg retweets of #gopatriots\n",
      "total retweets : 36727\n",
      "total tweets : 26232\n",
      "Average number of retweets :  1.40008386703\n",
      "1.40008386703\n",
      "---------------------------------------------------\n"
     ]
    }
   ],
   "source": [
    "df_gopatriots=pd.read_csv(\"csv/gopatriots.csv\")\n",
    "df_gopatriots[\"citation_date\"]=df_gopatriots[\"citation_date\"]/60//60\n",
    "print \"Avg tweets of #gopatriots\\n\",avgTweets(df_gopatriots)\n",
    "print \"---------------------------------------------------\"\n",
    "print \"Avg followers of users posting tweets of #gopatriots\\n\",avgFollowers(df_gopatriots)\n",
    "print \"---------------------------------------------------\"\n",
    "print \"Avg retweets of #gopatriots\\n\",avgRetweets(df_gopatriots)\n",
    "print \"---------------------------------------------------\""
   ]
  },
  {
   "cell_type": "code",
   "execution_count": 8,
   "metadata": {},
   "outputs": [
    {
     "name": "stdout",
     "output_type": "stream",
     "text": [
      "Avg tweets of #nfl\n",
      "Average number of tweets per hour is :  444.295025729\n",
      "444.295025729\n",
      "---------------------------------------------------\n",
      "Avg followers of users posting tweets of #nfl\n",
      "total followers: 1205304020.0\n",
      "total users: 259024\n",
      "Average number of followers of users posting the tweets = 4653.2522855\n",
      "4653.2522855\n",
      "---------------------------------------------------\n",
      "Avg retweets of #nfl\n",
      "total retweets : 398517\n",
      "total tweets : 259024\n",
      "Average number of retweets :  1.5385331089\n",
      "1.5385331089\n",
      "---------------------------------------------------\n"
     ]
    }
   ],
   "source": [
    "df_nfl=pd.read_csv(\"csv/nfl.csv\")\n",
    "df_nfl[\"citation_date\"]=df_nfl[\"citation_date\"]/60//60\n",
    "print \"Avg tweets of #nfl\\n\",avgTweets(df_nfl)\n",
    "print \"---------------------------------------------------\"\n",
    "print \"Avg followers of users posting tweets of #nfl\\n\",avgFollowers(df_nfl)\n",
    "print \"---------------------------------------------------\"\n",
    "print \"Avg retweets of #nfl\\n\",avgRetweets(df_nfl)\n",
    "print \"---------------------------------------------------\""
   ]
  },
  {
   "cell_type": "code",
   "execution_count": 9,
   "metadata": {},
   "outputs": [
    {
     "name": "stdout",
     "output_type": "stream",
     "text": [
      "Avg tweets of #patriots\n",
      "Average number of tweets per hour is :  834.264054514\n",
      "834.264054514\n",
      "---------------------------------------------------\n",
      "Avg followers of users posting tweets of #patriots\n",
      "total followers: 1620939662.0\n",
      "total users: 489713\n",
      "Average number of followers of users posting the tweets = 3309.97882842\n",
      "3309.97882842\n",
      "---------------------------------------------------\n",
      "Avg retweets of #patriots\n",
      "total retweets : 873068\n",
      "total tweets : 489713\n",
      "Average number of retweets :  1.78281564917\n",
      "1.78281564917\n",
      "---------------------------------------------------\n"
     ]
    }
   ],
   "source": [
    "df_patriots=pd.read_csv(\"csv/patriots.csv\")\n",
    "df_patriots[\"citation_date\"]=df_patriots[\"citation_date\"]/60//60\n",
    "print \"Avg tweets of #patriots\\n\",avgTweets(df_patriots)\n",
    "print \"---------------------------------------------------\"\n",
    "print \"Avg followers of users posting tweets of #patriots\\n\",avgFollowers(df_patriots)\n",
    "print \"---------------------------------------------------\"\n",
    "print \"Avg retweets of #patriots\\n\",avgRetweets(df_patriots)\n",
    "print \"---------------------------------------------------\""
   ]
  },
  {
   "cell_type": "code",
   "execution_count": 10,
   "metadata": {},
   "outputs": [
    {
     "name": "stdout",
     "output_type": "stream",
     "text": [
      "Avg tweets of #sb49\n",
      "Average number of tweets per hour is :  1528.56007394\n",
      "1528.56007394\n",
      "---------------------------------------------------\n",
      "Avg followers of users posting tweets of #sb49\n",
      "total followers: 8490567936.0\n",
      "total users: 826951\n",
      "Average number of followers of users posting the tweets = 10267.3168495\n",
      "10267.3168495\n",
      "---------------------------------------------------\n",
      "Avg retweets of #sb49\n",
      "total retweets : 2076597\n",
      "total tweets : 826951\n",
      "Average number of retweets :  2.51114878632\n",
      "2.51114878632\n",
      "---------------------------------------------------\n"
     ]
    }
   ],
   "source": [
    "df_sb49=pd.read_csv(\"csv/sb49.csv\")\n",
    "df_sb49[\"citation_date\"]=df_sb49[\"citation_date\"]/60//60\n",
    "print \"Avg tweets of #sb49\\n\",avgTweets(df_sb49)\n",
    "print \"---------------------------------------------------\"\n",
    "print \"Avg followers of users posting tweets of #sb49\\n\",avgFollowers(df_sb49)\n",
    "print \"---------------------------------------------------\"\n",
    "print \"Avg retweets of #sb49\\n\",avgRetweets(df_sb49)\n",
    "print \"---------------------------------------------------\""
   ]
  },
  {
   "cell_type": "code",
   "execution_count": 11,
   "metadata": {},
   "outputs": [
    {
     "name": "stdout",
     "output_type": "stream",
     "text": [
      "Avg tweets of #superbowl\n",
      "Average number of tweets per hour is :  2297.72913118\n",
      "2297.72913118\n",
      "---------------------------------------------------\n",
      "Avg followers of users posting tweets of #superbowl\n",
      "total followers: 11948692679.0\n",
      "total users: 1348767\n",
      "Average number of followers of users posting the tweets = 8858.97466278\n",
      "8858.97466278\n",
      "---------------------------------------------------\n",
      "Avg retweets of #superbowl\n",
      "total retweets : 3221223\n",
      "total tweets : 1348767\n",
      "Average number of retweets :  2.3882723999\n",
      "2.3882723999\n",
      "---------------------------------------------------\n"
     ]
    }
   ],
   "source": [
    "df_superbowl=pd.read_csv(\"csv/superbowl.csv\")\n",
    "#df_superbowl=pd.read_csv(open('csv/superbowl.csv','rU'), encoding='utf-8', engine='python')\n",
    "df_superbowl[\"citation_date\"]=df_superbowl[\"citation_date\"]/60//60\n",
    "print \"Avg tweets of #superbowl\\n\",avgTweets(df_superbowl)\n",
    "print \"---------------------------------------------------\"\n",
    "print \"Avg followers of users posting tweets of #superbowl\\n\",avgFollowers(df_superbowl)\n",
    "print \"---------------------------------------------------\"\n",
    "print \"Avg retweets of #superbowl\\n\",avgRetweets(df_superbowl)\n",
    "print \"---------------------------------------------------\""
   ]
  },
  {
   "cell_type": "code",
   "execution_count": 17,
   "metadata": {},
   "outputs": [
    {
     "data": {
      "image/png": "[encoded data removed]",
      "text/plain": [
       "<matplotlib.figure.Figure at 0x4cbf2550>"
      ]
     },
     "metadata": {},
     "output_type": "display_data"
    }
   ],
   "source": [
    "count_superbowl=df_superbowl.groupby([\"citation_date\"])[\"tweet_count\"].sum()\n",
    "tweet_array_superbowl=np.array(count_superbowl)\n",
    "hourList_superbowl=range(1,len(tweet_array_superbowl)+1)\n",
    "plt.bar(hourList_superbowl, tweet_array_superbowl)\n",
    "plt.xlabel(\"Hour\")\n",
    "plt.ylabel(\"Number of tweets\")\n",
    "plt.title('Number of #superbowl tweets per hour')\n",
    "plt.ylim(0, 150000)\n",
    "plt.show()\n",
    "plt.close()"
   ]
  },
  {
   "cell_type": "code",
   "execution_count": 22,
   "metadata": {},
   "outputs": [
    {
     "name": "stdout",
     "output_type": "stream",
     "text": [
      "277351\n"
     ]
    }
   ],
   "source": [
    "print max(count_superbowl)\n"
   ]
  },
  {
   "cell_type": "code",
   "execution_count": 34,
   "metadata": {},
   "outputs": [
    {
     "name": "stdout",
     "output_type": "stream",
     "text": [
      "131793\n",
      "277351\n"
     ]
    }
   ],
   "source": [
    "x=np.array(count_superbowl)\n",
    "print x[450]\n",
    "print max(x)"
   ]
  },
  {
   "cell_type": "code",
   "execution_count": 35,
   "metadata": {
    "collapsed": true
   },
   "outputs": [],
   "source": [
    "import operator\n",
    "index, value = max(enumerate(x), key=operator.itemgetter(1))"
   ]
  },
  {
   "cell_type": "code",
   "execution_count": 37,
   "metadata": {},
   "outputs": [
    {
     "name": "stdout",
     "output_type": "stream",
     "text": [
      "277351 449\n"
     ]
    }
   ],
   "source": [
    "print value, index"
   ]
  },
  {
   "cell_type": "code",
   "execution_count": 49,
   "metadata": {},
   "outputs": [
    {
     "name": "stdout",
     "output_type": "stream",
     "text": [
      "312.52\n",
      "8103.08666667\n",
      "274.965517241\n"
     ]
    }
   ],
   "source": [
    "#Here we have divided the count of tweets per hour into 3 intervals, and analyze the mean per interval\n",
    "print np.mean(x[:350])\n",
    "print np.mean(x[350:500])\n",
    "print np.mean(x[500:600])\n",
    "#Thus we observe that the mean was highest for the burst interval i.e. 350-500"
   ]
  },
  {
   "cell_type": "code",
   "execution_count": 21,
   "metadata": {},
   "outputs": [
    {
     "data": {
      "image/png": "[encoded data removed]",
      "text/plain": [
       "<matplotlib.figure.Figure at 0x84f87518>"
      ]
     },
     "metadata": {},
     "output_type": "display_data"
    }
   ],
   "source": [
    "count_nfl=df_nfl.groupby([\"citation_date\"])[\"tweet_count\"].sum()\n",
    "tweet_array_nfl=np.array(count_nfl)\n",
    "hourList_nfl=range(1,len(tweet_array_nfl)+1)\n",
    "plt.bar(hourList_nfl, tweet_array_nfl)\n",
    "plt.xlabel(\"Hour\")\n",
    "plt.ylabel(\"Number of tweets\")\n",
    "plt.title('Number of tweets in hour with #nfl')\n",
    "plt.show()\n",
    "plt.close()"
   ]
  },
  {
   "cell_type": "code",
   "execution_count": 23,
   "metadata": {},
   "outputs": [
    {
     "data": {
      "image/png": "[encoded data removed]",
      "text/plain": [
       "<matplotlib.figure.Figure at 0x3f590518>"
      ]
     },
     "metadata": {},
     "output_type": "display_data"
    }
   ],
   "source": [
    "count_gp=df_gopatriots.groupby([\"citation_date\"])[\"tweet_count\"].sum()\n",
    "tweet_array_gp=np.array(count_gp)\n",
    "hourList_gp=range(1,len(tweet_array_gp)+1)\n",
    "plt.bar(hourList_gp, tweet_array_gp)\n",
    "plt.xlabel(\"Hour\")\n",
    "plt.ylabel(\"Number of tweets\")\n",
    "plt.title('Number of tweets in hour with #gopatriots')\n",
    "plt.show()\n",
    "plt.close()"
   ]
  },
  {
   "cell_type": "code",
   "execution_count": 24,
   "metadata": {},
   "outputs": [
    {
     "data": {
      "image/png": "[encoded data removed]",
      "text/plain": [
       "<matplotlib.figure.Figure at 0x3f5a7940>"
      ]
     },
     "metadata": {},
     "output_type": "display_data"
    }
   ],
   "source": [
    "count_gh=df_gohawks.groupby([\"citation_date\"])[\"tweet_count\"].sum()\n",
    "tweet_array_gh=np.array(count_gh)\n",
    "hourList_gh=range(1,len(tweet_array_gh)+1)\n",
    "plt.bar(hourList_gh, tweet_array_gh)\n",
    "plt.xlabel(\"Hour\")\n",
    "plt.ylabel(\"Number of tweets\")\n",
    "plt.title('Number of tweets in hour with #gohawks')\n",
    "plt.show()\n",
    "plt.close()"
   ]
  },
  {
   "cell_type": "code",
   "execution_count": 32,
   "metadata": {},
   "outputs": [
    {
     "data": {
      "image/png": "[encoded data removed]",
      "text/plain": [
       "<matplotlib.figure.Figure at 0x5365ff98>"
      ]
     },
     "metadata": {},
     "output_type": "display_data"
    }
   ],
   "source": [
    "\n",
    "\n",
    "count_p=df_patriots.groupby([\"citation_date\"])[\"tweet_count\"].sum()\n",
    "tweet_array_p=np.array(count_p)\n",
    "hourList_p=range(1,len(tweet_array_p)+1)\n",
    "plt.bar(hourList_p, tweet_array_p)\n",
    "plt.xlabel(\"Hour\")\n",
    "plt.ylabel(\"Number of tweets\")\n",
    "plt.title('Number of tweets in hour with #patriots')\n",
    "plt.show()\n",
    "plt.close()"
   ]
  },
  {
   "cell_type": "code",
   "execution_count": null,
   "metadata": {
    "collapsed": true
   },
   "outputs": [],
   "source": []
  }
 ],
 "metadata": {
  "kernelspec": {
   "display_name": "Python 2",
   "language": "python",
   "name": "python2"
  },
  "language_info": {
   "codemirror_mode": {
    "name": "ipython",
    "version": 2
   },
   "file_extension": ".py",
   "mimetype": "text/x-python",
   "name": "python",
   "nbconvert_exporter": "python",
   "pygments_lexer": "ipython2",
   "version": "2.7.14"
  }
 },
 "nbformat": 4,
 "nbformat_minor": 2
}
